{
 "cells": [
  {
   "attachments": {},
   "cell_type": "markdown",
   "metadata": {},
   "source": [
    "# ```preprocessing_bigrams.py```\n",
    "Preprocesses sentences for bigram analysis.\n",
    "\n",
    "### Input\n",
    "- --files, -f\n",
    "    - tsv files of sentences \n",
    "\n",
    "### Other arguments\n",
    "- --cores, -p\n",
    "    - Number of cores to use. \n",
    "    - Defaults to 4.\n",
    "\n",
    "- --extension, -e\n",
    "    - Custom extension for filename. \n",
    "    - Adds string to the end of filename.\n",
    "\n",
    "### Output\n",
    "- txt files of preprocessed sentences (in preprocessed_sents/)\n",
    "    - Filename is automatically formatted using input file name.\n",
    "        > ```fname = PATH + fd.name.split(\"/\")[-1].split(\".\")[0] + \"_\" + args.extension + \".txt\"```"
   ]
  },
  {
   "attachments": {},
   "cell_type": "markdown",
   "metadata": {},
   "source": [
    "### Example usage"
   ]
  },
  {
   "cell_type": "code",
   "execution_count": 7,
   "metadata": {},
   "outputs": [
    {
     "name": "stdout",
     "output_type": "stream",
     "text": [
      "nohup: ignoring input and appending output to 'nohup.out'\n"
     ]
    }
   ],
   "source": [
    "!nohup python3 preprocessing_bigrams.py --files ../../2023-01-04/sent01.tsv -p 25"
   ]
  },
  {
   "attachments": {},
   "cell_type": "markdown",
   "metadata": {},
   "source": [
    "# ```bigram_analysis.py```\n",
    "Makes bigrams from preprocessed sent file, dumps them, and writes the bigrams that pass the metrics (frequency, MI, chi-squared) with their scores.\n",
    "\n",
    "### Input\n",
    "- --files, -f\n",
    "    - tsv files of sentences.\n",
    "    - Preprocessed (punctuation removed, sents separated by \\n) files (in ```preprocessed_sents/```) to make bigrams from.\n",
    "    - Unnecessary if using dumped bigrams.\n",
    "\n",
    "- --bigram_file, -bf\n",
    "    - File to dump/load bigrams (in ```bigrams/```).\n",
    "\n",
    "### Other arguments\n",
    "- --frequency, -F   \n",
    "    - Threshold for frequency.\n",
    "    - Defaults to 100.\n",
    "\n",
    "- --mi, -MI\n",
    "    - Threshold for MI.\n",
    "    - Defaults to 5.\n",
    "\n",
    "- --chi_2, -C\n",
    "    - Confidence interval for chi-squared.\n",
    "    - Defaults to 0.95.\n",
    "\n",
    "- --all, -A\n",
    "    - Do not apply any filter.\n",
    "\n",
    "### Output\n",
    "- --output, -o\n",
    "    - Path of txt file to write sentences to.\n",
    "    - Prints results if unspecified."
   ]
  },
  {
   "attachments": {},
   "cell_type": "markdown",
   "metadata": {},
   "source": [
    "### Example usage"
   ]
  },
  {
   "cell_type": "code",
   "execution_count": 10,
   "metadata": {},
   "outputs": [
    {
     "name": "stdout",
     "output_type": "stream",
     "text": [
      "done <_io.TextIOWrapper name='preprocessed_sents/sent01.txt' mode='r' encoding='UTF-8'>\n",
      "Percent done: 0.0%\n",
      "dumping\n",
      "done dumping\n",
      "making unigrams\n",
      "frequency\n",
      "making unigram counter\n",
      "MI\n",
      "chi\n",
      "done making dict\n",
      "done calculating\n"
     ]
    }
   ],
   "source": [
    "!python3 bigram_analysis.py --files preprocessed_sents/sent01.txt --bigram_file bigrams/sent01_test.pk --output bigram_analysis/bigram_analysis_sent01_test.txt --frequency 10"
   ]
  },
  {
   "attachments": {},
   "cell_type": "markdown",
   "metadata": {},
   "source": [
    "# ```collocation_replacer.py```\n",
    "Rewrites preprocessed sents with merged collocations based on bigram_analysis output (or \\n separated list of collocations).\n",
    "\n",
    "### Input\n",
    "- --files, -f\n",
    "    - tsv files to read sentences from (in ```in merged_sents/``` or ```preprocessed_sents/```).\n",
    "\n",
    "- --collocation_file, -cf\n",
    "    - File to read collocations from (in ```bigram_analysis/```, usually output of ```bigram_analysis.py```)\n",
    "\n",
    "### Other arguments\n",
    "- --cores, -p\n",
    "    - Number of cores to use. \n",
    "    - Defaults to 4.\n",
    "\n",
    "- --frequency, -F   \n",
    "    - Threshold for frequency.\n",
    "    - Defaults to 100.\n",
    "\n",
    "- --mi, -MI\n",
    "    - Threshold for MI.\n",
    "    - Defaults to 5.\n",
    "\n",
    "- --chi_2, -C\n",
    "    - Confidence interval for chi-squared.\n",
    "    - Defaults to 0.95.\n",
    "\n",
    "- --all, -A\n",
    "    - Do not apply any filter.\n",
    "\n",
    "- --merge_collocations, -m\n",
    "    - Merge collocations.\n",
    "\n",
    "- --underscore_test, -t, \n",
    "    - Prints words with multiple underscores.\n",
    "\n",
    "- --print_time, -P\n",
    "    - Prints time.\n",
    "\n",
    "- --extension, -e\n",
    "    - Custom extension for filename. \n",
    "    - Adds string to the end of filename.\n",
    "\n",
    "- --path, -fp\n",
    "    - Path of output file.\n",
    "    - Defaults to ```merged_sents```.\n",
    "\n",
    "### Output\n",
    "-  txt file of merged sentences \n",
    "    - The file is saved in ```merged_sents/aggressive``` or ```merged_sents/non-aggressive``` depending on whether -m is used, (unless path is specified using -fp).\n",
    "    - Filenames are taken automatically from the input file.\n",
    "    If -fp is used, the output is saved to that path with the automatically formatted file name."
   ]
  },
  {
   "attachments": {},
   "cell_type": "markdown",
   "metadata": {},
   "source": [
    "### Example usage"
   ]
  },
  {
   "cell_type": "code",
   "execution_count": 13,
   "metadata": {},
   "outputs": [
    {
     "name": "stderr",
     "output_type": "stream",
     "text": [
      "659.06s - pydevd: Sending message related to process being replaced timed-out after 5 seconds\n"
     ]
    },
    {
     "name": "stdout",
     "output_type": "stream",
     "text": [
      "nohup: ignoring input and appending output to 'nohup.out'\n"
     ]
    }
   ],
   "source": [
    "!nohup python3 collocation_replacer.py --files preprocessed_sents/sent01.txt --collocation_file bigram_analysis/bigram_analysis_sent01_test.txt --path merged_sents/non-aggressive -p 25 --extension test"
   ]
  }
 ],
 "metadata": {
  "kernelspec": {
   "display_name": ".venv",
   "language": "python",
   "name": "python3"
  },
  "language_info": {
   "codemirror_mode": {
    "name": "ipython",
    "version": 3
   },
   "file_extension": ".py",
   "mimetype": "text/x-python",
   "name": "python",
   "nbconvert_exporter": "python",
   "pygments_lexer": "ipython3",
   "version": "3.9.16"
  },
  "orig_nbformat": 4,
  "vscode": {
   "interpreter": {
    "hash": "6c0a841c08f84e217821e8f89b083a7daef6824e43204e31278c3f445ff1560d"
   }
  }
 },
 "nbformat": 4,
 "nbformat_minor": 2
}
