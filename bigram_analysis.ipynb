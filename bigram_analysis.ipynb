{
 "cells": [
  {
   "cell_type": "code",
   "execution_count": 7,
   "metadata": {},
   "outputs": [
    {
     "name": "stdout",
     "output_type": "stream",
     "text": [
      "nohup: ignoring input and appending output to 'nohup.out'\n"
     ]
    }
   ],
   "source": [
    "# Preprocess bigrams for bigram analysis.\n",
    "!nohup python3 preprocessing_bigrams.py --files ../../2023-01-04/sent01.tsv -p 25"
   ]
  },
  {
   "cell_type": "code",
   "execution_count": 10,
   "metadata": {},
   "outputs": [
    {
     "name": "stdout",
     "output_type": "stream",
     "text": [
      "done <_io.TextIOWrapper name='preprocessed_sents/sent01.txt' mode='r' encoding='UTF-8'>\n",
      "Percent done: 0.0%\n",
      "dumping\n",
      "done dumping\n",
      "making unigrams\n",
      "frequency\n",
      "making unigram counter\n",
      "MI\n",
      "chi\n",
      "done making dict\n",
      "done calculating\n"
     ]
    }
   ],
   "source": [
    "# Calculate metrics from bigrams in a corpus.\n",
    "!python3 bigram_analysis.py --files preprocessed_sents/sent01.txt --bigram_file bigrams/sent01_test.pk --output bigram_analysis/bigram_analysis_sent01_test.txt --frequency 10"
   ]
  },
  {
   "cell_type": "code",
   "execution_count": 13,
   "metadata": {},
   "outputs": [
    {
     "name": "stderr",
     "output_type": "stream",
     "text": [
      "659.06s - pydevd: Sending message related to process being replaced timed-out after 5 seconds\n"
     ]
    },
    {
     "name": "stdout",
     "output_type": "stream",
     "text": [
      "nohup: ignoring input and appending output to 'nohup.out'\n"
     ]
    }
   ],
   "source": [
    "# Replace bigrams in preprocessed sentences as collocations based on metrics from bigram analysis.\n",
    "!nohup python3 collocation_replacer.py --files preprocessed_sents/sent01.txt --collocation_file bigram_analysis/bigram_analysis_sent01_test.txt --path merged_sents/non-aggressive -p 25 --extension test\n"
   ]
  }
 ],
 "metadata": {
  "kernelspec": {
   "display_name": ".venv",
   "language": "python",
   "name": ".venv"
  },
  "language_info": {
   "codemirror_mode": {
    "name": "ipython",
    "version": 3
   },
   "file_extension": ".py",
   "mimetype": "text/x-python",
   "name": "python",
   "nbconvert_exporter": "python",
   "pygments_lexer": "ipython3",
   "version": "3.9.16"
  },
  "orig_nbformat": 4,
  "vscode": {
   "interpreter": {
    "hash": "ca3ed784184f1b3bb7c3539bfb45e71710cd27667424f92c2d5bb4df9c107c23"
   }
  }
 },
 "nbformat": 4,
 "nbformat_minor": 2
}
