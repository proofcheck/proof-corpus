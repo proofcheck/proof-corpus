{
 "cells": [
  {
   "attachments": {},
   "cell_type": "markdown",
   "metadata": {},
   "source": [
    "Category Finder\n",
    "\n",
    "A modular python script that can be used to collect various pieces of information about the corpus. By commenting and uncommenting various sections of code it can give information about how many papers are in each major or minor category, as well as most other metadata stored about papers on arxiv\n",
    "\n",
    "code to run: category_finder.py"
   ]
  },
  {
   "cell_type": "code",
   "execution_count": null,
   "metadata": {},
   "outputs": [],
   "source": [
    "#Category Finder\n",
    "\n",
    "!python3 category_finder.py"
   ]
  },
  {
   "attachments": {},
   "cell_type": "markdown",
   "metadata": {},
   "source": [
    "Count by paper\n",
    "\n",
    "A python script where, when given a tsv with paper IDs and proofs, will return a dictionary with the full set of words used by each paper in its own entry, without duplicates.\n",
    "\n",
    "code to run: count_by_paper.py\n",
    "\n",
    "Argument:\n",
    "\n",
    "* file to run on"
   ]
  },
  {
   "cell_type": "code",
   "execution_count": null,
   "metadata": {},
   "outputs": [],
   "source": [
    "# Count by paper\n",
    "# Examples counting words from proofs of three different years, all should have similar results for the same year of files\n",
    "\n",
    "!python3 count_by_paper.py cleanproofs99.tsv\n",
    "!python3 count_by_paper.py sent01.tsv\n",
    "!python3 count_by_paper.py proofs04.tsv"
   ]
  }
 ],
 "metadata": {
  "language_info": {
   "name": "python"
  },
  "orig_nbformat": 4
 },
 "nbformat": 4,
 "nbformat_minor": 2
}
