{
 "cells": [
  {
   "attachments": {},
   "cell_type": "markdown",
   "metadata": {},
   "source": [
    "Sentence Generation:\n",
    "\n",
    "Creates a list of randomly generated sentences using the list from a given file\n",
    "\n",
    "Code to run: ../generate/random-ccg.py\n",
    "\n",
    "Arguments:\n",
    "* -s to show skeleton derivations\n",
    "* -e to enumerate all sentences\n",
    "* -d to show debug information\n",
    "* -r for the number of sentences, e.g. -r100 for 100 random sentences, default 10\n",
    "* -w for sentence length, e.g. -w4 for four word sentences, default 6\n",
    "* -q to only show sentences and hide derivations\n",
    "* -t to ignore the number of words in each ccg category\n",
    "* --trees to write the trees to a file, e.g. --treestreefile.txt to write to a file named 'treefile.txt'\n",
    "* --goal for a root category goal\n",
    "* --slashes to enumerate slashes\n",
    "* --cfg to show an equivalent cfg\n",
    "* the name of the file to pull grammar rules from, e.g. grammar.txt\n",
    "* a word to require including in all sentences, e.g. contradiction, default is none\n",
    "* a rule to require for the given word, e.g. S/NP, default is none"
   ]
  },
  {
   "cell_type": "code",
   "execution_count": null,
   "metadata": {},
   "outputs": [],
   "source": [
    "#Sentence Generation \n",
    "# example to quietly generate 200 sentences of word length 6 and output to a file grammar.txt:\n",
    "!python3 ../generate/random-ccg.py -r200 -q grammar.txt\n",
    "\n",
    "# example to quietly generate 50 sentences of word length 3 that use the word let and output to a file grammar.txt:\n",
    "!python3 ../generate/random-ccg.py -r200 -w3 -q -grammar.txt let"
   ]
  },
  {
   "attachments": {},
   "cell_type": "markdown",
   "metadata": {},
   "source": [
    "Sentence Rankings:\n",
    "\n",
    "Given a list of sentences, ranks them based on different acceptability metrics\n",
    "\n",
    "Code to run: kenlm_sentence_ranker.py\n",
    "\n",
    "Arguments:\n",
    "* -f the name of the file to rank sentences on, e.g. -f sent.txt\n",
    "* -lm the name of an lm file to use\n",
    "* -o the name of the file to write results to\n",
    "* -a autoformat output filename\n",
    "* -r use raw sentences\n",
    "* -k keep punctuation\n",
    "* -LP use LP as metric\n",
    "* -U use unigram LP as metric\n",
    "* -M use mean LP as metric\n",
    "* -ND use (sent LP / unigram LP) as metric\n",
    "* -NS use (sent LP - unigram LP) as metric\n",
    "* -S use Slor as metric\n",
    "* --average write average"
   ]
  },
  {
   "cell_type": "code",
   "execution_count": null,
   "metadata": {},
   "outputs": [],
   "source": [
    "#Sentence Ranking\n",
    "#example to rank sentences from #sent.txt into #ranked_sent.txt using unigram LP\n",
    "!python3 kenlm_sentence_ranker.py -f sent.txt -lm all_clean.binary -o ranked_sent.txt -U"
   ]
  },
  {
   "attachments": {},
   "cell_type": "markdown",
   "metadata": {},
   "source": [
    "Sent from Common Words\n",
    "\n",
    "Given a number of how many words from common_wrods.txt to use, and a tsv file of sentences, \n",
    "this will output how many (n) sentences can be formed using the given words and the number more needed (x), \n",
    "in the form 'x n', and the dictionary containing all values\n",
    "\n",
    "code to run: sent_from_common_words.py\n",
    "\n",
    "Arguments:\n",
    "* the number of words from common_words.txt to use\n",
    "* the tsv file to try and create sentences from\n"
   ]
  },
  {
   "cell_type": "code",
   "execution_count": null,
   "metadata": {},
   "outputs": [],
   "source": [
    "# Sent From Common Words\n",
    "# Examples to match 100 common words to sentences from 2001 proofs and to match 50 common words to sentences from 2017 proofs\n",
    "\n",
    "!python3 sent_from_common_words 100 sent01.tsv\n",
    "!python3 sent_from_common_words 50 sent17.tsv"
   ]
  }
 ],
 "metadata": {
  "language_info": {
   "name": "python"
  },
  "orig_nbformat": 4
 },
 "nbformat": 4,
 "nbformat_minor": 2
}
